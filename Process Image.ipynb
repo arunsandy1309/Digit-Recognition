{
 "cells": [
  {
   "cell_type": "code",
   "execution_count": 1,
   "id": "22037244",
   "metadata": {},
   "outputs": [
    {
     "name": "stdout",
     "output_type": "stream",
     "text": [
      "INFO:tensorflow:Enabling eager execution\n",
      "INFO:tensorflow:Enabling v2 tensorshape\n",
      "INFO:tensorflow:Enabling resource variables\n",
      "INFO:tensorflow:Enabling tensor equality\n",
      "INFO:tensorflow:Enabling control flow v2\n"
     ]
    }
   ],
   "source": [
    "import cv2\n",
    "import numpy as np        \n",
    "import matplotlib.pyplot as plt\n",
    "from scipy import ndimage\n",
    "import math\n",
    "from keras.models import load_model\n",
    "\n",
    "\n",
    "# loading pre trained model\n",
    "model = load_model('cnn_model/digit_classifier.h5')\n",
    "\n",
    "def predict_digit(img):\n",
    "    test_image = img.reshape(-1,28,28,1)\n",
    "    return np.argmax(model.predict(test_image))\n",
    "\n",
    "\n",
    "#pitting label\n",
    "def put_label(t_img,label,x,y):\n",
    "    font = cv2.FONT_HERSHEY_SIMPLEX\n",
    "    l_x = int(x) - 10\n",
    "    l_y = int(y) + 10\n",
    "    cv2.rectangle(t_img,(l_x,l_y+5),(l_x+35,l_y-35),(0,255,0),-1) \n",
    "    cv2.putText(t_img,str(label),(l_x,l_y), font,1.5,(255,0,0),1,cv2.LINE_AA)\n",
    "    return t_img\n",
    "\n",
    "# refining each digit\n",
    "def image_refiner(gray):\n",
    "    org_size = 22\n",
    "    img_size = 28\n",
    "    rows,cols = gray.shape\n",
    "    \n",
    "    if rows > cols:\n",
    "        factor = org_size/rows\n",
    "        rows = org_size\n",
    "        cols = int(round(cols*factor))        \n",
    "    else:\n",
    "        factor = org_size/cols\n",
    "        cols = org_size\n",
    "        rows = int(round(rows*factor))\n",
    "    gray = cv2.resize(gray, (cols, rows))\n",
    "    \n",
    "    #get padding \n",
    "    colsPadding = (int(math.ceil((img_size-cols)/2.0)),int(math.floor((img_size-cols)/2.0)))\n",
    "    rowsPadding = (int(math.ceil((img_size-rows)/2.0)),int(math.floor((img_size-rows)/2.0)))\n",
    "    \n",
    "    #apply apdding \n",
    "    gray = np.lib.pad(gray,(rowsPadding,colsPadding),'constant')\n",
    "    return gray\n",
    "\n",
    "\n",
    "\n",
    "def get_output_image(path):\n",
    "  \n",
    "    img = cv2.imread(path,2)\n",
    "    img_org =  cv2.imread(path)\n",
    "\n",
    "    ret,thresh = cv2.threshold(img,127,255,0)\n",
    "    im2,contours,hierarchy = cv2.findContours(thresh, cv2.RETR_CCOMP, cv2.CHAIN_APPROX_SIMPLE)\n",
    "\n",
    "    for j,cnt in enumerate(contours):\n",
    "        epsilon = 0.01*cv2.arcLength(cnt,True)\n",
    "        approx = cv2.approxPolyDP(cnt,epsilon,True)\n",
    "        \n",
    "        hull = cv2.convexHull(cnt)\n",
    "        k = cv2.isContourConvex(cnt)\n",
    "        x,y,w,h = cv2.boundingRect(cnt)\n",
    "        \n",
    "        if(hierarchy[0][j][3]!=-1 and w>10 and h>10):\n",
    "            #putting boundary on each digit\n",
    "            cv2.rectangle(img_org,(x,y),(x+w,y+h),(0,255,0),2)\n",
    "            \n",
    "            #cropping each image and process\n",
    "            roi = img[y:y+h, x:x+w]\n",
    "            roi = cv2.bitwise_not(roi)\n",
    "            roi = image_refiner(roi)\n",
    "            th,fnl = cv2.threshold(roi,127,255,cv2.THRESH_BINARY)\n",
    "\n",
    "            # getting prediction of cropped image\n",
    "            pred = predict_digit(roi)\n",
    "            print(pred)\n",
    "            \n",
    "            # placing label on each digit\n",
    "            (x,y),radius = cv2.minEnclosingCircle(cnt)\n",
    "            img_org = put_label(img_org,pred,x,y)\n",
    "\n",
    "    return img_org"
   ]
  },
  {
   "cell_type": "code",
   "execution_count": 2,
   "id": "af0701a5",
   "metadata": {},
   "outputs": [
    {
     "ename": "ValueError",
     "evalue": "not enough values to unpack (expected 3, got 2)",
     "output_type": "error",
     "traceback": [
      "\u001b[1;31m---------------------------------------------------------------------------\u001b[0m",
      "\u001b[1;31mValueError\u001b[0m                                Traceback (most recent call last)",
      "\u001b[1;32m<ipython-input-2-fbbfc27da9e7>\u001b[0m in \u001b[0;36m<module>\u001b[1;34m\u001b[0m\n\u001b[1;32m----> 1\u001b[1;33m \u001b[0mget_output_image\u001b[0m\u001b[1;33m(\u001b[0m\u001b[1;34m\"out.png\"\u001b[0m\u001b[1;33m)\u001b[0m\u001b[1;33m\u001b[0m\u001b[1;33m\u001b[0m\u001b[0m\n\u001b[0m",
      "\u001b[1;32m<ipython-input-1-cb7a3216a828>\u001b[0m in \u001b[0;36mget_output_image\u001b[1;34m(path)\u001b[0m\n\u001b[0;32m     56\u001b[0m \u001b[1;33m\u001b[0m\u001b[0m\n\u001b[0;32m     57\u001b[0m     \u001b[0mret\u001b[0m\u001b[1;33m,\u001b[0m\u001b[0mthresh\u001b[0m \u001b[1;33m=\u001b[0m \u001b[0mcv2\u001b[0m\u001b[1;33m.\u001b[0m\u001b[0mthreshold\u001b[0m\u001b[1;33m(\u001b[0m\u001b[0mimg\u001b[0m\u001b[1;33m,\u001b[0m\u001b[1;36m127\u001b[0m\u001b[1;33m,\u001b[0m\u001b[1;36m255\u001b[0m\u001b[1;33m,\u001b[0m\u001b[1;36m0\u001b[0m\u001b[1;33m)\u001b[0m\u001b[1;33m\u001b[0m\u001b[1;33m\u001b[0m\u001b[0m\n\u001b[1;32m---> 58\u001b[1;33m     \u001b[0mim2\u001b[0m\u001b[1;33m,\u001b[0m\u001b[0mcontours\u001b[0m\u001b[1;33m,\u001b[0m\u001b[0mhierarchy\u001b[0m \u001b[1;33m=\u001b[0m \u001b[0mcv2\u001b[0m\u001b[1;33m.\u001b[0m\u001b[0mfindContours\u001b[0m\u001b[1;33m(\u001b[0m\u001b[0mthresh\u001b[0m\u001b[1;33m,\u001b[0m \u001b[0mcv2\u001b[0m\u001b[1;33m.\u001b[0m\u001b[0mRETR_CCOMP\u001b[0m\u001b[1;33m,\u001b[0m \u001b[0mcv2\u001b[0m\u001b[1;33m.\u001b[0m\u001b[0mCHAIN_APPROX_SIMPLE\u001b[0m\u001b[1;33m)\u001b[0m\u001b[1;33m\u001b[0m\u001b[1;33m\u001b[0m\u001b[0m\n\u001b[0m\u001b[0;32m     59\u001b[0m \u001b[1;33m\u001b[0m\u001b[0m\n\u001b[0;32m     60\u001b[0m     \u001b[1;32mfor\u001b[0m \u001b[0mj\u001b[0m\u001b[1;33m,\u001b[0m\u001b[0mcnt\u001b[0m \u001b[1;32min\u001b[0m \u001b[0menumerate\u001b[0m\u001b[1;33m(\u001b[0m\u001b[0mcontours\u001b[0m\u001b[1;33m)\u001b[0m\u001b[1;33m:\u001b[0m\u001b[1;33m\u001b[0m\u001b[1;33m\u001b[0m\u001b[0m\n",
      "\u001b[1;31mValueError\u001b[0m: not enough values to unpack (expected 3, got 2)"
     ]
    }
   ],
   "source": [
    "get_output_image(\"out.png\")"
   ]
  },
  {
   "cell_type": "code",
   "execution_count": null,
   "id": "87b25e7e",
   "metadata": {},
   "outputs": [],
   "source": []
  }
 ],
 "metadata": {
  "kernelspec": {
   "display_name": "Python 3",
   "language": "python",
   "name": "python3"
  },
  "language_info": {
   "codemirror_mode": {
    "name": "ipython",
    "version": 3
   },
   "file_extension": ".py",
   "mimetype": "text/x-python",
   "name": "python",
   "nbconvert_exporter": "python",
   "pygments_lexer": "ipython3",
   "version": "3.9.1"
  }
 },
 "nbformat": 4,
 "nbformat_minor": 5
}
