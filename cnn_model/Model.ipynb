{
 "cells": [
  {
   "cell_type": "code",
   "execution_count": 9,
   "id": "37e0bd0b",
   "metadata": {},
   "outputs": [],
   "source": [
    "\n",
    "import numpy as np\n",
    "import cv2\n",
    "import matplotlib.pyplot as plt\n",
    "from keras.models import Sequential\n",
    "from keras.layers.core import Dense, Dropout, Activation, Flatten\n",
    "from keras.layers import Conv2D, MaxPool2D\n",
    "from keras import optimizers\n",
    "from keras.datasets import mnist\n",
    "import tensorflow as tf\n",
    "from tensorflow.keras.utils import to_categorical\n",
    "import keras\n",
    "\n",
    "\n"
   ]
  },
  {
   "cell_type": "code",
   "execution_count": 2,
   "id": "fb3523ea",
   "metadata": {},
   "outputs": [
    {
     "name": "stdout",
     "output_type": "stream",
     "text": [
      "Downloading data from https://storage.googleapis.com/tensorflow/tf-keras-datasets/mnist.npz\n",
      "11493376/11490434 [==============================] - 1s 0us/step\n",
      "11501568/11490434 [==============================] - 1s 0us/step\n",
      "(60000, 28, 28) (60000,) (10000, 28, 28) (10000,)\n"
     ]
    }
   ],
   "source": [
    "# ### loading mist hand written dataset\n",
    "\n",
    "(X_train, y_train), (X_test, y_test) = mnist.load_data()\n",
    "print(X_train.shape, y_train.shape, X_test.shape, y_test.shape)\n"
   ]
  },
  {
   "cell_type": "code",
   "execution_count": 3,
   "id": "dda8b99d",
   "metadata": {},
   "outputs": [],
   "source": [
    "# ## Applying threshold for removing noise \n",
    "\n",
    "_,X_train_th = cv2.threshold(X_train,127,255,cv2.THRESH_BINARY)\n",
    "_,X_test_th = cv2.threshold(X_test,127,255,cv2.THRESH_BINARY)\n"
   ]
  },
  {
   "cell_type": "code",
   "execution_count": 4,
   "id": "06a28a46",
   "metadata": {},
   "outputs": [],
   "source": [
    "# ### Reshaping \n",
    "\n",
    "X_train = X_train_th.reshape(-1,28,28,1)\n",
    "X_test = X_test_th.reshape(-1,28,28,1)\n"
   ]
  },
  {
   "cell_type": "code",
   "execution_count": 5,
   "id": "cf9d1c39",
   "metadata": {},
   "outputs": [],
   "source": [
    "# ### Creating categorical output from 0 to 9\n",
    "\n",
    "y_train = to_categorical(y_train, num_classes = 10)\n",
    "y_test = to_categorical(y_test, num_classes = 10)\n"
   ]
  },
  {
   "cell_type": "code",
   "execution_count": 6,
   "id": "582839aa",
   "metadata": {},
   "outputs": [
    {
     "name": "stdout",
     "output_type": "stream",
     "text": [
      "(60000, 28, 28, 1) (60000, 10)\n",
      "(10000, 28, 28, 1) (10000, 10)\n"
     ]
    }
   ],
   "source": [
    "# ## cross checking shape of input and output\n",
    "\n",
    "print(X_train.shape, y_train.shape)\n",
    "print(X_test.shape, y_test.shape)\n",
    "\n"
   ]
  },
  {
   "cell_type": "code",
   "execution_count": 12,
   "id": "260ffafe",
   "metadata": {},
   "outputs": [
    {
     "name": "stdout",
     "output_type": "stream",
     "text": [
      "Model: \"sequential_4\"\n",
      "_________________________________________________________________\n",
      "Layer (type)                 Output Shape              Param #   \n",
      "=================================================================\n",
      "conv2d_8 (Conv2D)            (None, 26, 26, 32)        320       \n",
      "_________________________________________________________________\n",
      "conv2d_9 (Conv2D)            (None, 24, 24, 64)        18496     \n",
      "_________________________________________________________________\n",
      "max_pooling2d_4 (MaxPooling2 (None, 12, 12, 64)        0         \n",
      "_________________________________________________________________\n",
      "dropout_8 (Dropout)          (None, 12, 12, 64)        0         \n",
      "_________________________________________________________________\n",
      "flatten_4 (Flatten)          (None, 9216)              0         \n",
      "_________________________________________________________________\n",
      "dense_8 (Dense)              (None, 128)               1179776   \n",
      "_________________________________________________________________\n",
      "dropout_9 (Dropout)          (None, 128)               0         \n",
      "_________________________________________________________________\n",
      "dense_9 (Dense)              (None, 10)                1290      \n",
      "=================================================================\n",
      "Total params: 1,199,882\n",
      "Trainable params: 1,199,882\n",
      "Non-trainable params: 0\n",
      "_________________________________________________________________\n",
      "Epoch 1/5\n",
      "300/300 [==============================] - 39s 27ms/step - loss: 47.6847 - accuracy: 0.0964 - val_loss: 8.6909 - val_accuracy: 0.2636\n",
      "Epoch 2/5\n",
      "300/300 [==============================] - 7s 24ms/step - loss: 23.7783 - accuracy: 0.1731 - val_loss: 3.6341 - val_accuracy: 0.4650\n",
      "Epoch 3/5\n",
      "300/300 [==============================] - 7s 25ms/step - loss: 13.1584 - accuracy: 0.2472 - val_loss: 1.9628 - val_accuracy: 0.5546\n",
      "Epoch 4/5\n",
      "300/300 [==============================] - 7s 25ms/step - loss: 7.8725 - accuracy: 0.2960 - val_loss: 1.4461 - val_accuracy: 0.5496\n",
      "Epoch 5/5\n",
      "300/300 [==============================] - 7s 25ms/step - loss: 4.9210 - accuracy: 0.3139 - val_loss: 1.4701 - val_accuracy: 0.5038\n"
     ]
    }
   ],
   "source": [
    "# # Creating CNN model\n",
    "\n",
    "input_shape = (28,28,1)\n",
    "number_of_classes = 10\n",
    "\n",
    "model = Sequential()\n",
    "model.add(Conv2D(32, kernel_size=(3, 3),activation='relu',input_shape=input_shape))\n",
    "\n",
    "model.add(Conv2D(64, (3, 3), activation='relu'))\n",
    "model.add(MaxPool2D(pool_size=(2, 2)))\n",
    "\n",
    "model.add(Dropout(0.25))\n",
    "model.add(Flatten())\n",
    "model.add(Dense(128, activation='relu'))\n",
    "\n",
    "model.add(Dropout(0.5))\n",
    "model.add(Dense(number_of_classes, activation='softmax'))\n",
    "\n",
    "model.compile(loss=keras.losses.categorical_crossentropy,\n",
    "              optimizer='Adadelta',metrics=['accuracy'])\n",
    "\n",
    "model.summary()\n",
    "\n",
    "history = model.fit(X_train, y_train,epochs=5, shuffle=True,\n",
    "                    batch_size = 200,validation_data= (X_test, y_test))\n",
    "\n",
    "\n",
    "model.save('digit_classifier2.h5')"
   ]
  },
  {
   "cell_type": "code",
   "execution_count": null,
   "id": "aba0e7f1",
   "metadata": {},
   "outputs": [],
   "source": []
  }
 ],
 "metadata": {
  "kernelspec": {
   "display_name": "Python 3",
   "language": "python",
   "name": "python3"
  },
  "language_info": {
   "codemirror_mode": {
    "name": "ipython",
    "version": 3
   },
   "file_extension": ".py",
   "mimetype": "text/x-python",
   "name": "python",
   "nbconvert_exporter": "python",
   "pygments_lexer": "ipython3",
   "version": "3.9.1"
  }
 },
 "nbformat": 4,
 "nbformat_minor": 5
}
